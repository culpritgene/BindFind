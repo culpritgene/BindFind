{
 "cells": [
  {
   "cell_type": "code",
   "execution_count": 2,
   "metadata": {},
   "outputs": [],
   "source": [
    "import pandas as pd\n",
    "import numpy as np\n",
    "import seaborn as sns\n",
    "import matplotlib.pyplot as plt\n",
    "\n",
    "import collections \n",
    "import seaborn as sns\n",
    "import matplotlib.pyplot as plt\n",
    "import warnings\n",
    "warnings.simplefilter('ignore')\n",
    "\n",
    "import torch\n",
    "from torch import nn\n",
    "from torch.utils import data\n",
    "from torchvision.transforms import Compose, ToTensor"
   ]
  },
  {
   "cell_type": "code",
   "execution_count": 3,
   "metadata": {},
   "outputs": [],
   "source": [
    "device = 'cuda' if torch.cuda.is_available() else 'cpu'"
   ]
  },
  {
   "cell_type": "code",
   "execution_count": 4,
   "metadata": {},
   "outputs": [],
   "source": [
    "factors = open('data/factors.txt', 'r').readlines()"
   ]
  },
  {
   "cell_type": "code",
   "execution_count": 5,
   "metadata": {},
   "outputs": [],
   "source": [
    "dfc = []\n",
    "for factor in factors:\n",
    "    df = pd.read_excel(f'Data/{factor}', index_col=0)\n",
    "    df = df.reset_index().rename(columns={'index': 'symbol'})\n",
    "    #df['symbol'] = df['symbol'].apply(lambda x: x[1:])\n",
    "    df = df.rename(columns={'HTH domain amino acid sequences':'HTH_seq', \n",
    "                       'Binding sites':'sites', 'site':'sites',\n",
    "                       'Aligned binding motifs':'aligned_motifs',\n",
    "                       'aligned sites':'aligned_motifs',\n",
    "                       'locus_tag TF':'TF_genes', 'regulated gene':'target_gene',\n",
    "                       'Regulated operons':'target_operons',\n",
    "                       'TF genes':'TF_genes'})\n",
    "    if not 'symbol' in df.columns: df['symbol'] = '-'\n",
    "    if not 'target_operons' in df.columns: df['target_operons'] = '-'\n",
    "    df = df[['symbol','HTH_seq','aligned_motifs','sites','TF_genes', 'target_operons']]\n",
    "    df['Factor'] = factor.split('.')[0]\n",
    "    dfc.append(df)\n",
    "dfc = pd.concat(dfc)\n",
    "dfc.reset_index().rename(columns={'index': 'internal_index'})\n",
    "dfc['symbol'] = dfc['symbol'].apply(lambda x: x.replace('>', ''))\n",
    "dfc.to_csv('Data_prepared.csv', index=False)"
   ]
  },
  {
   "cell_type": "code",
   "execution_count": 6,
   "metadata": {},
   "outputs": [],
   "source": [
    "df1 = df = pd.read_excel(f'Data/{factors[1]}', index_col=0)"
   ]
  },
  {
   "cell_type": "code",
   "execution_count": 214,
   "metadata": {},
   "outputs": [],
   "source": [
    "df = pd.read_csv('Data_prepared.csv')"
   ]
  },
  {
   "cell_type": "code",
   "execution_count": 215,
   "metadata": {},
   "outputs": [],
   "source": [
    "df = df.dropna(axis=0, subset=['HTH_seq','sites'])\n",
    "df.to_csv('Data_prepared_filtered.csv')"
   ]
  },
  {
   "cell_type": "code",
   "execution_count": 9,
   "metadata": {},
   "outputs": [],
   "source": [
    "print('Occuring lengths of HTH domain sequence:', set(df['HTH_seq'].dropna().apply(len)))\n",
    "print('Occuring lengths of DNA sites:', set(df['sites'].dropna().apply(len)))\n",
    "print('Occuring lengths of DNA site alignments:', set(df['aligned_motifs'].dropna().apply(len)))"
   ]
  },
  {
   "cell_type": "code",
   "execution_count": 266,
   "metadata": {},
   "outputs": [],
   "source": [
    "df = df.loc[df[['HTH_seq','aligned_motifs', 'Factor']].drop_duplicates().index]"
   ]
  },
  {
   "cell_type": "markdown",
   "metadata": {},
   "source": [
    "### Train/Test/Val split"
   ]
  },
  {
   "cell_type": "code",
   "execution_count": 267,
   "metadata": {},
   "outputs": [],
   "source": [
    "test = df[df['Factor']=='YtrA']\n",
    "train = df[df['Factor']!='YtrA']\n",
    "test2 = train.sample(int(len(train)*0.12))\n",
    "train = train.drop(test2.index)\n",
    "test = test.append(test2)"
   ]
  },
  {
   "cell_type": "code",
   "execution_count": 269,
   "metadata": {},
   "outputs": [],
   "source": [
    "strats = dict(zip(train['HTH_seq'].value_counts()[:30].index, np.arange(1,31)))\n",
    "train['cv_strata'] = train['HTH_seq'].apply(lambda x: strats[x] if x in strats else 0)"
   ]
  },
  {
   "cell_type": "code",
   "execution_count": 270,
   "metadata": {},
   "outputs": [],
   "source": [
    "from sklearn.model_selection import StratifiedKFold\n",
    "stratKF = StratifiedKFold(n_splits=5, shuffle=True)\n",
    "splits = stratKF.get_n_splits(X=train, y=train['cv_strata'].values)"
   ]
  },
  {
   "cell_type": "code",
   "execution_count": 271,
   "metadata": {},
   "outputs": [],
   "source": [
    "test.to_csv('./Data/small_Test_particle.csv')"
   ]
  },
  {
   "cell_type": "code",
   "execution_count": 272,
   "metadata": {},
   "outputs": [],
   "source": [
    "i = 0\n",
    "for train_index, test_index in stratKF.split(X=train, y=train['cv_strata'].values):\n",
    "    train_particle, val_particle = train.iloc[train_index], train.iloc[test_index]\n",
    "    train_particle.to_csv(f'./Data/small_Train_particle_{i}.csv')\n",
    "    val_particle.to_csv(f'./Data/small_Val_particel_{i}.csv')\n",
    "    i += 1"
   ]
  },
  {
   "cell_type": "code",
   "execution_count": 98,
   "metadata": {},
   "outputs": [],
   "source": [
    "NucEnc = {'A':'0','T':'1','C':'2','G':'3','-':'4','X':'5'}\n",
    "AmEnc = set(''.join(df['HTH_seq'].dropna().values)).union('Z')\n",
    "AmEnc = {k:str(i) for i,k in enumerate(sorted(list(AmEnc)))}"
   ]
  },
  {
   "cell_type": "code",
   "execution_count": 109,
   "metadata": {},
   "outputs": [],
   "source": [
    "OneHotDNA = lambda x: OneHotEncode(x, NucEnc)\n",
    "OneHotProtein = lambda x: OneHotEncode(x, AmEnc)\n",
    "\n",
    "dat_train = PdDataset(df, positive_rate=0.2, preprocess_y=Compose([Upper, Pad(80), OneHotDNA]),\n",
    "                      preprocess_x=Compose([Pad(80, pad_symbol='Z'), OneHotProtein]),\n",
    "                transforms=Compose([to_tensor, scatter_torch(len(AmEnc)), crop_out_padding, to_float]),\n",
    "                 transforms_x2=Compose([to_tensor, scatter_torch(len(NucEnc)), crop_out_padding, to_float]),      \n",
    "                transforms_y=Compose([to_tensor]))"
   ]
  },
  {
   "cell_type": "code",
   "execution_count": 171,
   "metadata": {},
   "outputs": [
    {
     "data": {
      "text/plain": [
       "<matplotlib.axes._subplots.AxesSubplot at 0x7fc6404acd68>"
      ]
     },
     "execution_count": 171,
     "metadata": {},
     "output_type": "execute_result"
    },
    {
     "data": {
      "image/png": "[encoded data removed]",
      "text/plain": [
       "<Figure size 432x288 with 1 Axes>"
      ]
     },
     "metadata": {
      "needs_background": "light"
     },
     "output_type": "display_data"
    }
   ],
   "source": [
    "sns.distplot(df['HTH_seq'].value_counts().values)"
   ]
  }
 ],
 "metadata": {
  "kernelspec": {
   "display_name": "iDS",
   "language": "python",
   "name": "ids"
  },
  "language_info": {
   "codemirror_mode": {
    "name": "ipython",
    "version": 3
   },
   "file_extension": ".py",
   "mimetype": "text/x-python",
   "name": "python",
   "nbconvert_exporter": "python",
   "pygments_lexer": "ipython3",
   "version": "3.6.8"
  }
 },
 "nbformat": 4,
 "nbformat_minor": 4
}
